{
 "cells": [
  {
   "cell_type": "code",
   "execution_count": 22,
   "metadata": {
    "collapsed": true
   },
   "outputs": [],
   "source": [
    "# https://github.com/ericjang/genadv_tutorial/blob/master/genadv1.ipynb\n",
    "# http://blog.evjang.com/2016/06/generative-adversarial-nets-in.html"
   ]
  },
  {
   "cell_type": "code",
   "execution_count": 1,
   "metadata": {
    "collapsed": true
   },
   "outputs": [],
   "source": [
    "\n",
    "import tensorflow as tf\n",
    "import numpy as np\n",
    "import matplotlib.pyplot as plt\n",
    "import seaborn as sns # for pretty plots\n",
    "from scipy.stats import norm\n",
    "%matplotlib inline"
   ]
  },
  {
   "cell_type": "code",
   "execution_count": 2,
   "metadata": {
    "collapsed": false
   },
   "outputs": [
    {
     "data": {
      "text/plain": [
       "[<matplotlib.lines.Line2D at 0x20bc9148f28>]"
      ]
     },
     "execution_count": 2,
     "metadata": {},
     "output_type": "execute_result"
    },
    {
     "data": {
      "image/png": "[encoded data removed]",
      "text/plain": [
       "<matplotlib.figure.Figure at 0x20bc90d8a90>"
      ]
     },
     "metadata": {},
     "output_type": "display_data"
    }
   ],
   "source": [
    "mu = -1\n",
    "sigma = 1\n",
    "xs = np.linspace(-5, 5, 100)\n",
    "plt.plot(xs, norm.pdf(xs, loc=mu, scale=sigma))"
   ]
  },
  {
   "cell_type": "code",
   "execution_count": 3,
   "metadata": {
    "collapsed": true
   },
   "outputs": [],
   "source": [
    "TRAIN_ITERS = 10000\n",
    "BATCH_SIZE = 200"
   ]
  },
  {
   "cell_type": "code",
   "execution_count": 4,
   "metadata": {
    "collapsed": false
   },
   "outputs": [],
   "source": [
    "\n",
    "# MLP - used for D_pre, D1, D2, G networks\n",
    "def mlp(input, output_dim):\n",
    "    # construct learnable parameters within local scope\n",
    "    w1=tf.get_variable(\"w0\", [input.get_shape()[1], 6], initializer=tf.random_normal_initializer())\n",
    "    b1=tf.get_variable(\"b0\", [6], initializer=tf.constant_initializer(0.0))\n",
    "    w2=tf.get_variable(\"w1\", [6, 5], initializer=tf.random_normal_initializer())\n",
    "    b2=tf.get_variable(\"b1\", [5], initializer=tf.constant_initializer(0.0))\n",
    "    w3=tf.get_variable(\"w2\", [5,output_dim], initializer=tf.random_normal_initializer())\n",
    "    b3=tf.get_variable(\"b2\", [output_dim], initializer=tf.constant_initializer(0.0))\n",
    "    # nn operators\n",
    "    fc1=tf.nn.tanh(tf.matmul(input,w1)+b1)\n",
    "    fc2=tf.nn.tanh(tf.matmul(fc1,w2)+b2)\n",
    "    fc3=tf.nn.tanh(tf.matmul(fc2,w3)+b3)\n",
    "    return fc3, [w1,b1,w2,b2,w3,b3]"
   ]
  },
  {
   "cell_type": "code",
   "execution_count": 8,
   "metadata": {
    "collapsed": true
   },
   "outputs": [],
   "source": [
    "# re-used for optimizing all networks\n",
    "def momentum_optimizer(loss,var_list):\n",
    "    batch = tf.Variable(0)\n",
    "    learning_rate = tf.train.exponential_decay(\n",
    "        0.001,                # Base learning rate.\n",
    "        batch,  # Current index into the dataset.\n",
    "        TRAIN_ITERS // 4,          # Decay step - this decays 4 times throughout training process.\n",
    "        0.95,                # Decay rate.\n",
    "        staircase=True)\n",
    "    #optimizer=tf.train.GradientDescentOptimizer(learning_rate).minimize(loss,global_step=batch,var_list=var_list)\n",
    "    optimizer=tf.train.MomentumOptimizer(learning_rate,0.6).minimize(loss,global_step=batch,var_list=var_list)\n",
    "    return optimizer   "
   ]
  },
  {
   "cell_type": "markdown",
   "metadata": {},
   "source": [
    "# pre-trian decision surface "
   ]
  },
  {
   "cell_type": "code",
   "execution_count": 6,
   "metadata": {
    "collapsed": false
   },
   "outputs": [],
   "source": [
    "with tf.variable_scope('D_pre'):\n",
    "    input_node = tf.placeholder(tf.float32, shape=(BATCH_SIZE, 1))\n",
    "    train_labels = tf.placeholder(tf.float32, shape=(BATCH_SIZE, 1))\n",
    "    D, theta = mlp(input_node, 1)\n",
    "    loss = tf.reduce_mean(tf.square(D - train_labels))\n",
    "    "
   ]
  },
  {
   "cell_type": "code",
   "execution_count": 10,
   "metadata": {
    "collapsed": false
   },
   "outputs": [],
   "source": [
    "optimzier = momentum_optimizer(loss, None)\n",
    "sess = tf.InteractiveSession()\n",
    "tf.global_variables_initializer().run()"
   ]
  },
  {
   "cell_type": "code",
   "execution_count": 20,
   "metadata": {
    "collapsed": true
   },
   "outputs": [],
   "source": [
    "#  plot decision surface\n",
    "def plot_d0(D, input_node):\n",
    "    f, ax = plt.subplots(1)\n",
    "    #p_data\n",
    "    xs = np.linspace(-5, 5, 1000)\n",
    "    ax.plot(xs, norm.pdf(xs, loc=mu, scale=sigma), label='p_data')\n",
    "    # decision boundary\n",
    "    r = 1000\n",
    "    xs = np.linspace(-5, 5, r)\n",
    "    ds = np.zeros((r, 1)) #ds = decision surface\n",
    "    for i in range(r//BATCH_SIZE):\n",
    "        x = np.reshape(xs[BATCH_SIZE*i:BATCH_SIZE*(i+1)], (BATCH_SIZE, 1))\n",
    "        ds[BATCH_SIZE*i:BATCH_SIZE*(i+1)] = sess.run(D, {input_node: x})\n",
    "    ax.plot(xs, ds, label='decision boundary')\n",
    "    ax.set_ylim(0, 1.1)\n",
    "    plt.legend()\n",
    "    \n",
    "    "
   ]
  },
  {
   "cell_type": "code",
   "execution_count": 21,
   "metadata": {
    "collapsed": false
   },
   "outputs": [
    {
     "data": {
      "text/plain": [
       "<matplotlib.text.Text at 0x20bc98eab38>"
      ]
     },
     "execution_count": 21,
     "metadata": {},
     "output_type": "execute_result"
    },
    {
     "data": {
      "image/png": "[encoded data removed]",
      "text/plain": [
       "<matplotlib.figure.Figure at 0x20bc96fd6d8>"
      ]
     },
     "metadata": {},
     "output_type": "display_data"
    }
   ],
   "source": [
    "plot_d0(D, input_node)\n",
    "plt.title('intial decision boundary')"
   ]
  },
  {
   "cell_type": "code",
   "execution_count": null,
   "metadata": {
    "collapsed": true
   },
   "outputs": [],
   "source": []
  },
  {
   "cell_type": "code",
   "execution_count": null,
   "metadata": {
    "collapsed": true
   },
   "outputs": [],
   "source": []
  },
  {
   "cell_type": "code",
   "execution_count": null,
   "metadata": {
    "collapsed": true
   },
   "outputs": [],
   "source": []
  },
  {
   "cell_type": "code",
   "execution_count": null,
   "metadata": {
    "collapsed": true
   },
   "outputs": [],
   "source": []
  },
  {
   "cell_type": "code",
   "execution_count": null,
   "metadata": {
    "collapsed": true
   },
   "outputs": [],
   "source": []
  },
  {
   "cell_type": "code",
   "execution_count": null,
   "metadata": {
    "collapsed": true
   },
   "outputs": [],
   "source": []
  },
  {
   "cell_type": "code",
   "execution_count": null,
   "metadata": {
    "collapsed": true
   },
   "outputs": [],
   "source": []
  },
  {
   "cell_type": "code",
   "execution_count": null,
   "metadata": {
    "collapsed": true
   },
   "outputs": [],
   "source": []
  },
  {
   "cell_type": "code",
   "execution_count": null,
   "metadata": {
    "collapsed": true
   },
   "outputs": [],
   "source": []
  },
  {
   "cell_type": "code",
   "execution_count": null,
   "metadata": {
    "collapsed": true
   },
   "outputs": [],
   "source": []
  }
 ],
 "metadata": {
  "kernelspec": {
   "display_name": "Python 3",
   "language": "python",
   "name": "python3"
  },
  "language_info": {
   "codemirror_mode": {
    "name": "ipython",
    "version": 3
   },
   "file_extension": ".py",
   "mimetype": "text/x-python",
   "name": "python",
   "nbconvert_exporter": "python",
   "pygments_lexer": "ipython3",
   "version": "3.5.2"
  }
 },
 "nbformat": 4,
 "nbformat_minor": 0
}
