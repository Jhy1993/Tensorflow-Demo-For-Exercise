{
 "cells": [
  {
   "cell_type": "code",
   "execution_count": 4,
   "metadata": {
    "collapsed": true
   },
   "outputs": [],
   "source": [
    "import matplotlib.pyplot as plt\n",
    "import numpy as np\n",
    "import os\n",
    "import tensorflow as tf\n",
    "from tensorflow.python.framework import ops\n",
    "ops.reset_default_graph()\n",
    "%matplotlib inline\n",
    "\n",
    "sess = tf.Session()"
   ]
  },
  {
   "cell_type": "code",
   "execution_count": 5,
   "metadata": {
    "collapsed": false
   },
   "outputs": [
    {
     "name": "stdout",
     "output_type": "stream",
     "text": [
      "[[[  1.   3.   5.   7.   9.]\n",
      "  [ -2.   0.   2.   4.   6.]\n",
      "  [ -6.  -3.   0.   3.   6.]]\n",
      "\n",
      " [[  2.   4.   6.   8.  10.]\n",
      "  [ -1.   1.   3.   5.   7.]\n",
      "  [ -5.  -2.   1.   4.   7.]]]\n"
     ]
    }
   ],
   "source": [
    "my_array = np.array([[1., 3., 5., 7., 9.],\n",
    "                   [-2., 0., 2., 4., 6.],\n",
    "                   [-6., -3., 0., 3., 6.]])\n",
    "x_vals = np.array([my_array, my_array + 1])\n",
    "print(x_vals)\n",
    "x_data = tf.placeholder(tf.float32, shape=(3, 5))"
   ]
  },
  {
   "cell_type": "code",
   "execution_count": 6,
   "metadata": {
    "collapsed": false
   },
   "outputs": [],
   "source": [
    "m1 = tf.constant([[1.],[0.],[-1.],[2.],[4.]])\n",
    "m2 = tf.constant([[2.]])\n",
    "a1 = tf.constant([[10.]])"
   ]
  },
  {
   "cell_type": "code",
   "execution_count": 7,
   "metadata": {
    "collapsed": false
   },
   "outputs": [
    {
     "name": "stdout",
     "output_type": "stream",
     "text": [
      "[[ 102.]\n",
      " [  66.]\n",
      " [  58.]]\n",
      "[[ 114.]\n",
      " [  78.]\n",
      " [  70.]]\n"
     ]
    }
   ],
   "source": [
    "p1 = tf.matmul(x_data, m1)\n",
    "p2 = tf.matmul(p1, m2)\n",
    "add1 = tf.add(p2, a1)\n",
    "for x_val in x_vals:\n",
    "    print(sess.run(add1, feed_dict={x_data: x_val}))"
   ]
  },
  {
   "cell_type": "code",
   "execution_count": 10,
   "metadata": {
    "collapsed": false
   },
   "outputs": [],
   "source": [
    "merge = tf.summary.merge_all()\n",
    "\n",
    "writer = tf.summary.FileWriter('/tmp/v1', sess.graph)"
   ]
  },
  {
   "cell_type": "code",
   "execution_count": null,
   "metadata": {
    "collapsed": true
   },
   "outputs": [],
   "source": []
  },
  {
   "cell_type": "code",
   "execution_count": null,
   "metadata": {
    "collapsed": true
   },
   "outputs": [],
   "source": []
  }
 ],
 "metadata": {
  "kernelspec": {
   "display_name": "Python 3",
   "language": "python",
   "name": "python3"
  },
  "language_info": {
   "codemirror_mode": {
    "name": "ipython",
    "version": 3
   },
   "file_extension": ".py",
   "mimetype": "text/x-python",
   "name": "python",
   "nbconvert_exporter": "python",
   "pygments_lexer": "ipython3",
   "version": "3.5.2"
  }
 },
 "nbformat": 4,
 "nbformat_minor": 0
}
