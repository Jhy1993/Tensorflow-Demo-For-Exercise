{
 "cells": [
  {
   "cell_type": "code",
   "execution_count": 1,
   "metadata": {
    "collapsed": true
   },
   "outputs": [],
   "source": [
    "import matplotlib.pyplot as plt\n",
    "import numpy as np\n",
    "import os\n",
    "import tensorflow as tf\n",
    "from tensorflow.python.framework import ops\n",
    "ops.reset_default_graph()\n",
    "%matplotlib inline\n",
    "\n",
    "sess = tf.Session()"
   ]
  },
  {
   "cell_type": "code",
   "execution_count": 2,
   "metadata": {
    "collapsed": true
   },
   "outputs": [],
   "source": [
    "batch_size = 25\n",
    "# Create data\n",
    "x_vals = np.random.normal(1, 0.1, 100)\n",
    "y_vals = np.repeat(10., 100)\n",
    "x_data = tf.placeholder(shape=[None, 1], dtype=tf.float32)\n",
    "y_target = tf.placeholder(shape=[None, 1], dtype=tf.float32)"
   ]
  },
  {
   "cell_type": "code",
   "execution_count": 31,
   "metadata": {
    "collapsed": true
   },
   "outputs": [],
   "source": [
    "A = tf.Variable(tf.random_normal(shape=[1, 1]))\n",
    "my_out = tf.multiply(x_data, A)\n"
   ]
  },
  {
   "cell_type": "code",
   "execution_count": 32,
   "metadata": {
    "collapsed": true
   },
   "outputs": [],
   "source": [
    "loss = tf.reduce_mean(tf.square(my_out - y_target))"
   ]
  },
  {
   "cell_type": "code",
   "execution_count": 33,
   "metadata": {
    "collapsed": true
   },
   "outputs": [],
   "source": [
    "sess.run(tf.global_variables_initializer())"
   ]
  },
  {
   "cell_type": "code",
   "execution_count": 34,
   "metadata": {
    "collapsed": false
   },
   "outputs": [],
   "source": [
    "opt = tf.train.GradientDescentOptimizer(0.01)\n",
    "train_step = opt.minimize(loss)"
   ]
  },
  {
   "cell_type": "code",
   "execution_count": 39,
   "metadata": {
    "collapsed": false
   },
   "outputs": [
    {
     "name": "stdout",
     "output_type": "stream",
     "text": [
      "epoch: 4, A: [[-1.39285111]]\n",
      "loss: 129.06883239746094\n",
      "epoch: 9, A: [[-0.2989623]]\n",
      "loss: 106.16165924072266\n",
      "epoch: 14, A: [[ 0.68952245]]\n",
      "loss: 86.44828033447266\n",
      "epoch: 19, A: [[ 1.59190845]]\n",
      "loss: 69.56047058105469\n",
      "epoch: 24, A: [[ 2.39511633]]\n",
      "loss: 58.55827331542969\n",
      "epoch: 29, A: [[ 3.13124108]]\n",
      "loss: 45.950687408447266\n",
      "epoch: 34, A: [[ 3.78631425]]\n",
      "loss: 39.150936126708984\n",
      "epoch: 39, A: [[ 4.38135147]]\n",
      "loss: 31.441509246826172\n",
      "epoch: 44, A: [[ 4.91764879]]\n",
      "loss: 23.929241180419922\n",
      "epoch: 49, A: [[ 5.40080643]]\n",
      "loss: 22.902542114257812\n",
      "epoch: 54, A: [[ 5.83820915]]\n",
      "loss: 17.40643310546875\n",
      "epoch: 59, A: [[ 6.23197269]]\n",
      "loss: 13.910382270812988\n",
      "epoch: 64, A: [[ 6.59106588]]\n",
      "loss: 14.171446800231934\n",
      "epoch: 69, A: [[ 6.91326714]]\n",
      "loss: 11.14599609375\n",
      "epoch: 74, A: [[ 7.20032263]]\n",
      "loss: 8.229497909545898\n",
      "epoch: 79, A: [[ 7.46344519]]\n",
      "loss: 6.922745227813721\n",
      "epoch: 84, A: [[ 7.69754076]]\n",
      "loss: 5.103902339935303\n",
      "epoch: 89, A: [[ 7.90804768]]\n",
      "loss: 3.884943962097168\n",
      "epoch: 94, A: [[ 8.10034752]]\n",
      "loss: 4.688104152679443\n",
      "epoch: 99, A: [[ 8.26943111]]\n",
      "loss: 3.040090322494507\n"
     ]
    }
   ],
   "source": [
    "loss_batch = []\n",
    "for i in range(100):\n",
    "    rand_index = np.random.choice(100, size=batch_size)\n",
    "    rand_x = np.transpose([x_vals[rand_index]])\n",
    "    rand_y = np.transpose([y_vals[rand_index]])\n",
    "    sess.run(train_step, feed_dict={x_data: rand_x, y_target: rand_y})\n",
    "    if (i+1)%5 == 0:\n",
    "        print('epoch: {}, A: {}'.format(i, sess.run(A)))\n",
    "        tl = sess.run(loss, feed_dict={x_data: rand_x, y_target: rand_y})\n",
    "        print('loss: {}'.format(tl))\n",
    "        loss_batch.append(tl)"
   ]
  },
  {
   "cell_type": "code",
   "execution_count": 40,
   "metadata": {
    "collapsed": false
   },
   "outputs": [
    {
     "data": {
      "text/plain": [
       "[<matplotlib.lines.Line2D at 0x2526bc51208>]"
      ]
     },
     "execution_count": 40,
     "metadata": {},
     "output_type": "execute_result"
    },
    {
     "data": {
      "image/png": "[encoded data removed]",
      "text/plain": [
       "<matplotlib.figure.Figure at 0x2526bc38da0>"
      ]
     },
     "metadata": {},
     "output_type": "display_data"
    }
   ],
   "source": [
    "plt.plot(loss_batch)"
   ]
  },
  {
   "cell_type": "code",
   "execution_count": null,
   "metadata": {
    "collapsed": true
   },
   "outputs": [],
   "source": []
  }
 ],
 "metadata": {
  "kernelspec": {
   "display_name": "Python 3",
   "language": "python",
   "name": "python3"
  },
  "language_info": {
   "codemirror_mode": {
    "name": "ipython",
    "version": 3
   },
   "file_extension": ".py",
   "mimetype": "text/x-python",
   "name": "python",
   "nbconvert_exporter": "python",
   "pygments_lexer": "ipython3",
   "version": "3.5.2"
  }
 },
 "nbformat": 4,
 "nbformat_minor": 0
}
